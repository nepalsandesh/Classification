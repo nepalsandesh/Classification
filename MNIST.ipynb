{
 "cells": [
  {
   "cell_type": "markdown",
   "id": "2cdd7ad8",
   "metadata": {},
   "source": [
    "**MNIST Handwritten digit Classification**"
   ]
  },
  {
   "cell_type": "markdown",
   "id": "1628a382",
   "metadata": {},
   "source": [
    "# Setup"
   ]
  },
  {
   "cell_type": "markdown",
   "id": "e22e1fe9",
   "metadata": {},
   "source": [
    "Check Versions"
   ]
  },
  {
   "cell_type": "code",
   "execution_count": 2,
   "id": "16ada3b4",
   "metadata": {},
   "outputs": [],
   "source": [
    "import sys\n",
    "\n",
    "assert sys.version_info >= (3, 7)"
   ]
  },
  {
   "cell_type": "markdown",
   "id": "ce5529b4",
   "metadata": {},
   "source": [
    "It also requires Scikit-Learn >= 1.0.1:"
   ]
  },
  {
   "cell_type": "code",
   "execution_count": 5,
   "id": "1fbca1d2",
   "metadata": {},
   "outputs": [],
   "source": [
    "from packaging import version\n",
    "import sklearn\n",
    "\n",
    "assert version.parse(sklearn.__version__) >= version.parse(\"1.0.1\")"
   ]
  },
  {
   "cell_type": "markdown",
   "id": "5bf88104",
   "metadata": {},
   "source": [
    "Define the default font sizes to make the figures prettier."
   ]
  },
  {
   "cell_type": "code",
   "execution_count": 8,
   "id": "1e51f1bc",
   "metadata": {},
   "outputs": [],
   "source": [
    "import matplotlib.pyplot as plt\n",
    "\n",
    "plt.rc('font', size=14)\n",
    "plt.rc('axes', labelsize=14, titlesize=14)\n",
    "plt.rc('legend', fontsize=14)\n",
    "plt.rc('xtick', labelsize=10)\n",
    "plt.rc('ytick', labelsize=10)"
   ]
  },
  {
   "cell_type": "markdown",
   "id": "96a0b59f",
   "metadata": {},
   "source": [
    "And let's create the `images/classification` folder (if it doesn't already exist), and define the `save_fig()` function to save the figures in high resolution."
   ]
  },
  {
   "cell_type": "code",
   "execution_count": 13,
   "id": "c32f1be2",
   "metadata": {},
   "outputs": [],
   "source": [
    "from pathlib import Path\n",
    "\n",
    "IMAGES_PATH = Path() / \"images\" / \"classification\"\n",
    "IMAGES_PATH.mkdir(parents=True, exist_ok=True)\n",
    "\n",
    "def save_fig(fig_id, tight_layout=True, fig_extension=\"png\", resolution=300):\n",
    "    path = IMAGES_PATH / f\"{fig_id}.{fig_extension}\"\n",
    "    if tight_layout:\n",
    "        plt.tight_layout()\n",
    "    plt.savefig(path, format=fig_extension, dpi=resolution)"
   ]
  },
  {
   "cell_type": "code",
   "execution_count": null,
   "id": "7debe969",
   "metadata": {},
   "outputs": [],
   "source": []
  }
 ],
 "metadata": {
  "kernelspec": {
   "display_name": "Python 3 (ipykernel)",
   "language": "python",
   "name": "python3"
  },
  "language_info": {
   "codemirror_mode": {
    "name": "ipython",
    "version": 3
   },
   "file_extension": ".py",
   "mimetype": "text/x-python",
   "name": "python",
   "nbconvert_exporter": "python",
   "pygments_lexer": "ipython3",
   "version": "3.9.13"
  }
 },
 "nbformat": 4,
 "nbformat_minor": 5
}
